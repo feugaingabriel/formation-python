{
 "cells": [
  {
   "cell_type": "markdown",
   "metadata": {},
   "source": [
    "## Exercice 1 : Analyse de texte\n",
    "\n",
    "Écrivez un programme qui analyse un texte donné et fournit les informations suivantes :\n",
    "1. Le nombre total de caractères\n",
    "2. Le nombre de mots\n",
    "3. La première et la dernière lettre du texte\n",
    "4. Le texte en majuscules\n",
    "5. Le nombre d'occurrences du mot \"Python\" (indépendamment de la casse)\n",
    "6. Le texte avec tous les \"a\" remplacés par \"@\""
   ]
  },
  {
   "cell_type": "markdown",
   "metadata": {},
   "source": [
    "### Solution"
   ]
  },
  {
   "cell_type": "code",
   "execution_count": 25,
   "metadata": {},
   "outputs": [
    {
     "name": "stdout",
     "output_type": "stream",
     "text": [
      "Le nomre de caratere de  cette est : 106 \n",
      "\n",
      "Le nombre total de mots est: 16 \n",
      "\n",
      "La premiere lettre du texte est : P. Et la derniere lettre du texte est: s\n",
      "\n",
      "Le texte en majuscule est le suivant: PYTHON EST UN LANGAGE DE PROGRAMMATION PUISSANT ET FLEXIBLE. PYTHON EST UTILISÉ DANS DE NOMBREUX DOMAINES.\n",
      "\n",
      "Nombre d'occurence de python: 2\n",
      "\n",
      "Replace all 'a' to '@' is : Python est un l@ng@ge de progr@mm@tion puiss@nt et flexible. Python est utilisé d@ns de nombreux dom@ines.\n",
      "\n"
     ]
    }
   ],
   "source": [
    "# Texte à analyser\n",
    "texte = \"Python est un langage de programmation puissant et flexible. Python est utilisé dans de nombreux domaines.\"\n",
    "\n",
    "# 1-nombre total de carateres\n",
    "\n",
    "char_number = len(texte)\n",
    "print(f'Le nomre de caratere de  cette est : {char_number} \\n')\n",
    "\n",
    "# 2 - nombre de mot\n",
    "nber_word = len(texte.split(\" \"))\n",
    "print(f\"Le nombre total de mots est: {nber_word} \\n\")\n",
    "\n",
    "# 3-Premier et dernier lettre du texte\n",
    "\n",
    "firts_char = texte[0]\n",
    "last_char = texte[-2]\n",
    "print(f\"La premiere lettre du texte est : {firts_char}. Et la derniere lettre du texte est: {last_char}\\n\")\n",
    "\n",
    "# 4- Mettre le texte en majuscule\n",
    "upper = texte.upper()\n",
    "print(f\"Le texte en majuscule est le suivant: {upper}\\n\")\n",
    "\n",
    "# 5 -le nombre de d'occurences du mot python\n",
    "occ_number = texte.lower().count('python')\n",
    "print(f\"Nombre d'occurence de python: {occ_number}\\n\")\n",
    "\n",
    "replace_a_to = texte.replace('a', '@')\n",
    "\n",
    "print(f\"Replace all 'a' to '@' is : {replace_a_to}\\n\")\n",
    "\n"
   ]
  },
  {
   "cell_type": "markdown",
   "metadata": {},
   "source": [
    "## Exercice 2 : Formatage d'informations personnelles\n",
    "\n",
    "Créez un programme qui demande à l'utilisateur son nom, prénom, âge et ville, puis formate ces informations dans une phrase de présentation. Le programme doit également :\n",
    "1. Vérifier que le nom et le prénom ne contiennent que des lettres\n",
    "2. S'assurer que l'âge est un nombre\n",
    "3. Mettre la première lettre du nom et du prénom en majuscule\n",
    "4. Afficher la longueur totale de la phrase de présentation\n"
   ]
  },
  {
   "cell_type": "markdown",
   "metadata": {},
   "source": [
    "### Solution"
   ]
  },
  {
   "cell_type": "code",
   "execution_count": 28,
   "metadata": {},
   "outputs": [
    {
     "name": "stdout",
     "output_type": "stream",
     "text": [
      "Presentation \n",
      "\n",
      "\n",
      "Je m'appelle Tata Toto, j'ai 32 ans et j'habite a PARIS\n",
      "\n",
      " La longueur de la phrase : 55 carateres.\n"
     ]
    }
   ],
   "source": [
    "first_name = input(\"Please enter your first name\")\n",
    "last_name = input(\"Please enter your last name\")\n",
    "age = input(\"Please enter your age\")\n",
    "city = input(\"Please enter your city\")\n",
    "\n",
    "# 1-Verification et formatage des entrees\n",
    "\n",
    "if first_name.isalpha() and last_name.isalpha():\n",
    "   first_name = first_name.capitalize()\n",
    "   last_name = last_name.capitalize()\n",
    "else:\n",
    "    print(\"Sorry, mais le nom et le prenom doivent contenir uniquement des caracteres\")\n",
    "if age.isdigit():\n",
    "    age = int(age)\n",
    "else:\n",
    "    print(\"Sorry, l'age doit etre uniquement en chiffre\")\n",
    "\n",
    "presentation = f\"Je m'appelle {last_name} {first_name}, j'ai {age} ans et j'habite a {city}\"\n",
    "\n",
    "print(\"Presentation \\n\\n\")\n",
    "print(presentation)\n",
    "print(f\"\\n La longueur de la phrase : {len(presentation)} carateres.\")\n"
   ]
  },
  {
   "cell_type": "markdown",
   "metadata": {},
   "source": [
    "## Exercice 3 : Manipulation de code secret\n",
    "\n",
    "Créez un programme qui manipule un code secret de la manière suivante :\n",
    "1. Commencez avec le code secret : \"P@ssw0rd123!\"\n",
    "2. Affichez la longueur du code\n",
    "3. Remplacez tous les \"0\" par \"o\" et tous les \"1\" par \"i\"\n",
    "4. Inversez l'ordre des caractères dans le code\n",
    "5. Ajoutez \"Secure_\" au début du code\n",
    "6. Vérifiez si le code modifié contient le mot \"word\"\n",
    "7. Affichez les 5 premiers et les 5 derniers caractères du code final\n"
   ]
  },
  {
   "cell_type": "code",
   "execution_count": 13,
   "metadata": {},
   "outputs": [
    {
     "name": "stdout",
     "output_type": "stream",
     "text": [
      "1. Longueur du code initial : 12\n",
      "\n",
      "2. Code apres remplacement: p@sswordi23!\n",
      "\n",
      "3. Code inverse: !32idrowss@p\n",
      "\n",
      "4. Code avec prefixe: Secure_!32idrowss@p\n",
      "\n",
      "5. Le code contient la chaine 'word'? False\n",
      "\n",
      "6. 5 premiers caracteres : Secur\n",
      "\n",
      "6. 5 derniers caracteres : wss@p\n"
     ]
    }
   ],
   "source": [
    "# password-code\n",
    "code = 'p@sswOrd123!'\n",
    "\n",
    "# 1- afficher la longueur du code\n",
    "\n",
    "print(f\"1. Longueur du code initial : {len(code)}\")\n",
    "\n",
    "# 2 Remplacer tous les O par o et tous les 1 par i\n",
    "\n",
    "code = code.replace('O', 'o').replace('1', 'i')\n",
    "\n",
    "print(f\"\\n2. Code apres remplacement: {code}\")\n",
    "\n",
    "# 3- Inverser l'ordre de caractere\n",
    "\n",
    "code = code[::-1]\n",
    "\n",
    "print(f\"\\n3. Code inverse: {code}\")\n",
    "\n",
    "# 4- Ajouter Secure_ au debut de code\n",
    "\n",
    "code = \"Secure_\"+code\n",
    "\n",
    "print(f\"\\n4. Code avec prefixe: {code}\")\n",
    "\n",
    "# 5- Verifier si le code contient 'word'\n",
    "# code = \"password\"\n",
    "contient_word = \"word\" in code.lower()\n",
    "\n",
    "print(f\"\\n5. Le code contient la chaine 'word'? {contient_word}\")\n",
    "\n",
    "\n",
    "# 6- Afficher les 5 premiers et 5 derniers caracteres\n",
    "\"\"\"\n",
    "    code = \"Secure_!32idrowss@p\"\n",
    "    list = ['S', 'e', 'c','u', 'r','e','_' etc.]\n",
    "\"\"\"\n",
    "\n",
    "\n",
    "print(f\"\\n6. 5 premiers caracteres : {code[:5]}\")\n",
    "print(f\"\\n6. 5 derniers caracteres : {code[-5:]}\")"
   ]
  }
 ],
 "metadata": {
  "kernelspec": {
   "display_name": "env",
   "language": "python",
   "name": "python3"
  },
  "language_info": {
   "codemirror_mode": {
    "name": "ipython",
    "version": 3
   },
   "file_extension": ".py",
   "mimetype": "text/x-python",
   "name": "python",
   "nbconvert_exporter": "python",
   "pygments_lexer": "ipython3",
   "version": "3.12.5"
  }
 },
 "nbformat": 4,
 "nbformat_minor": 2
}
