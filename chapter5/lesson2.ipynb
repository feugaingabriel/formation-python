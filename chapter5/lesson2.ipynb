{
 "cells": [
  {
   "cell_type": "markdown",
   "metadata": {},
   "source": [
    "# formatage des chaînes de caractères en Python"
   ]
  },
  {
   "cell_type": "markdown",
   "metadata": {},
   "source": [
    "Le formatage des chaînes de caractères est une fonctionnalité essentielle en Python, permettant d'insérer des variables et d'autres expressions dans des chaînes de manière lisible et efficace. Ce cours couvre les différentes méthodes de formatage disponibles en Python, avec des exemples pratiques et des exercices corrigés.\n",
    "\n",
    "1. Méthodes de formatage des chaînes\n",
    "\n",
    "1.1 L'opérateur %\n",
    "\n",
    "C'est l'une des méthodes les plus anciennes pour formater des chaînes en Python. Elle utilise des spécificateurs de format comme %s pour les chaînes et %d pour les entiers.\n",
    "\n",
    "Exemple :"
   ]
  },
  {
   "cell_type": "code",
   "execution_count": 1,
   "metadata": {},
   "outputs": [
    {
     "name": "stdout",
     "output_type": "stream",
     "text": [
      "Bonjour Mr Mohamed vous avez une note de 78 .\n"
     ]
    }
   ],
   "source": [
    "username = \"Mohamed\"\n",
    "\n",
    "note = 78\n",
    "\n",
    "print(\"Bonjour Mr %s vous avez une note de %d .\"%(username, note))"
   ]
  },
  {
   "cell_type": "markdown",
   "metadata": {},
   "source": [
    "1.2 La méthode str.format()\n",
    "\n",
    "Introduite dans Python 2.7, cette méthode utilise des accolades {} comme espaces réservés dans la chaîne.\n",
    "\n",
    "Exemple :"
   ]
  },
  {
   "cell_type": "code",
   "execution_count": 4,
   "metadata": {},
   "outputs": [
    {
     "name": "stdout",
     "output_type": "stream",
     "text": [
      "Bonjour Mr 45 Vous avez une note de Mohamed/50\n"
     ]
    }
   ],
   "source": [
    "username = \"Mohamed\"\n",
    "note =45\n",
    "\n",
    "print(\"Bonjour Mr {} Vous avez une note de {}/50\".format(note, username))"
   ]
  },
  {
   "cell_type": "markdown",
   "metadata": {},
   "source": [
    "1.3 Les f-strings (formatted string literals)\n",
    "\n",
    "Introduites dans Python 3.6, les f-strings sont la méthode recommandée pour le formatage en raison de leur simplicité et de leur efficacité. Elles permettent d'inclure directement des expressions dans une chaîne.\n",
    "\n",
    "Exemple :"
   ]
  },
  {
   "cell_type": "code",
   "execution_count": 5,
   "metadata": {},
   "outputs": [
    {
     "name": "stdout",
     "output_type": "stream",
     "text": [
      "Bonjour Mr Mohamed, vous avez une note de 45/50\n"
     ]
    }
   ],
   "source": [
    "username = \"Mohamed\"\n",
    "note =45\n",
    "\n",
    "print(f\"Bonjour Mr {username}, vous avez une note de {note}/50\")"
   ]
  },
  {
   "cell_type": "markdown",
   "metadata": {},
   "source": [
    "2. Spécifications de format\n",
    "\n",
    "Les spécifications de format permettent de contrôler la présentation des valeurs. Voici quelques options courantes :\n",
    "\n",
    "- Alignement : < pour aligner à gauche, > pour aligner à droite, ^ pour centrer.\n",
    "- Nombre de décimales : :.2f pour afficher un nombre à deux décimales.\n",
    "- Séparateur de milliers : :, pour ajouter une virgule comme séparateur.\n",
    "\n",
    "Exemple :\n"
   ]
  },
  {
   "cell_type": "code",
   "execution_count": 13,
   "metadata": {},
   "outputs": [
    {
     "name": "stdout",
     "output_type": "stream",
     "text": [
      "Le prix est 1,234,567.898 euros.\n"
     ]
    }
   ],
   "source": [
    "prix = 1234567.89765\n",
    "print(f\"Le prix est {prix:,.3f} euros.\") "
   ]
  },
  {
   "cell_type": "markdown",
   "metadata": {},
   "source": [
    "3. Exercices corrigés\n",
    "\n",
    "Exercice 1 : Afficher un tableau\n",
    "\n",
    "Écrivez un programme qui affiche un tableau simple avec trois colonnes : Nom, Âge et Ville."
   ]
  },
  {
   "cell_type": "code",
   "execution_count": 16,
   "metadata": {},
   "outputs": [
    {
     "name": "stdout",
     "output_type": "stream",
     "text": [
      "Name            Note            University     \n",
      "Mohamed         43              Uds            \n",
      "Yvan            50              Uds            \n",
      "Gabriel         45              Spring branch  \n"
     ]
    }
   ],
   "source": [
    "personnes = [(\"Mohamed\", 43,\"Uds\"), ('Yvan', 50, 'Uds'), (\"Gabriel\", 45, 'Spring branch')]\n",
    "\n",
    "print(f\"{'Name':<15} {'Note':<15} {'University':<15}\")\n",
    "for name, note , university in personnes:\n",
    "    print(f\"{name:<15} {note:<15} {university:<15}\")\n",
    "    \n",
    "    "
   ]
  },
  {
   "cell_type": "markdown",
   "metadata": {},
   "source": [
    "Conclusion\n",
    "\n",
    "Le formatage des chaînes de caractères en Python offre plusieurs méthodes flexibles et puissantes pour créer des sorties textuelles claires et informatives. Les f-strings sont particulièrement recommandées pour leur simplicité et leur efficacité. En pratiquant avec les exercices fournis, vous pourrez maîtriser ces techniques essentielles dans vos projets Python."
   ]
  }
 ],
 "metadata": {
  "kernelspec": {
   "display_name": "env",
   "language": "python",
   "name": "python3"
  },
  "language_info": {
   "codemirror_mode": {
    "name": "ipython",
    "version": 3
   },
   "file_extension": ".py",
   "mimetype": "text/x-python",
   "name": "python",
   "nbconvert_exporter": "python",
   "pygments_lexer": "ipython3",
   "version": "3.12.5"
  }
 },
 "nbformat": 4,
 "nbformat_minor": 2
}
